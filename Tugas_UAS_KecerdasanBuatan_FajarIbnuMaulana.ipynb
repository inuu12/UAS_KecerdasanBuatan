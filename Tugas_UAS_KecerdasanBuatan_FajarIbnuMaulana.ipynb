{
  "metadata": {
    "kernelspec": {
      "name": "python",
      "display_name": "Python (Pyodide)",
      "language": "python"
    },
    "language_info": {
      "codemirror_mode": {
        "name": "python",
        "version": 3
      },
      "file_extension": ".py",
      "mimetype": "text/x-python",
      "name": "python",
      "nbconvert_exporter": "python",
      "pygments_lexer": "ipython3",
      "version": "3.8"
    }
  },
  "nbformat_minor": 4,
  "nbformat": 4,
  "cells": [
    {
      "cell_type": "markdown",
      "source": "# Implementasi Machine Learning dengan Scikit-Learn\n\nNotebook ini berisi implementasi sederhana model machine learning menggunakan Scikit-Learn. Model yang digunakan adalah regresi linear untuk memprediksi harga rumah berdasarkan dataset yang tersedia.\n\n## Langkah-langkah:\n1. Import Libraries\n2. Load Dataset\n3. Exploratory Data Analysis (EDA)\n4. Preprocess Data\n5. Split Data\n6. Train Model\n7. Evaluate Model\n8. Make Predictions\n",
      "metadata": {}
    },
    {
      "cell_type": "code",
      "source": "# 1. Import Libraries\nimport numpy as np\nimport pandas as pd\nfrom sklearn.model_selection import train_test_split\nfrom sklearn.linear_model import LinearRegression\nfrom sklearn.metrics import mean_squared_error\nimport matplotlib.pyplot as plt\nimport seaborn as sns\n\n# 2. Load Dataset\n# Menggunakan dataset contoh dari Scikit-Learn\nfrom sklearn.datasets import load_boston\nboston = load_boston()\ndata = pd.DataFrame(boston.data, columns=boston.feature_names)\ndata['PRICE'] = boston.target\n\n# 3. Exploratory Data Analysis (EDA)\nsns.pairplot(data, x_vars=data.columns[:-1], y_vars='PRICE', kind='reg')\nplt.show()\n\n# 4. Preprocess Data\nX = data.drop(columns='PRICE')\ny = data['PRICE']\n\n# 5. Split Data\nX_train, X_test, y_train, y_test = train_test_split(X, y, test_size=0.2, random_state=42)\n\n# 6. Train Model\nmodel = LinearRegression()\nmodel.fit(X_train, y_train)\n\n# 7. Evaluate Model\ny_pred = model.predict(X_test)\nmse = mean_squared_error(y_test, y_pred)\nprint(f\"Mean Squared Error: {mse}\")\n\n# 8. Make Predictions\npredictions = pd.DataFrame({'Actual': y_test, 'Predicted': y_pred})\nprint(predictions.head())\n",
      "metadata": {
        "trusted": true
      },
      "outputs": [],
      "execution_count": null
    }
  ]
}